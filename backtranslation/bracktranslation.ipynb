{
 "cells": [
  {
   "cell_type": "code",
   "execution_count": 1,
   "metadata": {},
   "outputs": [],
   "source": [
    "from transformers import MBart50Tokenizer, MBartForConditionalGeneration\n",
    "\n",
    "# Load mBART-50 model and tokenizer\n",
    "model_name = \"facebook/mbart-large-50-many-to-many-mmt\"\n",
    "tokenizer = MBart50Tokenizer.from_pretrained(model_name)\n",
    "model = MBartForConditionalGeneration.from_pretrained(model_name)\n",
    "\n",
    "# Input data in the source language\n",
    "source_sentences = [\n",
    "    \"Hello, how are you?\",\n",
    "    \"What is your name?\",\n",
    "    \"I love coding!\"\n",
    "]\n",
    "\n",
    "# Initialize lists for storing source sentences and translated sentences\n",
    "source_corpus = []\n",
    "translated_corpus = []\n",
    "\n",
    "\n",
    "# Translate each source sentence to Tamil\n",
    "for sentence in source_sentences:\n",
    "    \n",
    "    # Tokenization\n",
    "    tokenizer.src_lang = \"en_XX\"\n",
    "    encoded_ar = tokenizer(sentence, return_tensors=\"pt\")\n",
    "    generated_tokens = model.generate(\n",
    "    **encoded_ar,\n",
    "    forced_bos_token_id=tokenizer.lang_code_to_id[\"te_IN\"],\n",
    "    max_new_tokens=200\n",
    "    )\n",
    "    \n",
    "\n",
    "    # Detokenization\n",
    "    translated_sentence =tokenizer.batch_decode(generated_tokens, skip_special_tokens=True)\n",
    "\n",
    "    # Append source and translated sentences to the respective lists\n",
    "    source_corpus.append(sentence)\n",
    "    translated_corpus.append(translated_sentence)\n",
    "\n"
   ]
  },
  {
   "cell_type": "code",
   "execution_count": 2,
   "metadata": {},
   "outputs": [
    {
     "name": "stdout",
     "output_type": "stream",
     "text": [
      "Source (English): Hello, how are you?\n",
      "Translation (Tamil): హలో, ఎలా ఉన్నావు?\n",
      "Source (English): What is your name?\n",
      "Translation (Tamil): మీ పేరు ఏమిటి?\n",
      "Source (English): I love coding!\n",
      "Translation (Tamil): నేను ప్రోగ్రామ్ ప్రేమ!\n"
     ]
    }
   ],
   "source": [
    "# Print the parallel corpus\n",
    "for source, translation in zip(source_corpus, translated_corpus):\n",
    "    print(f\"Source (English): {source}\")\n",
    "    print(f\"Translation (Tamil): {translation[0]}\")\n",
    "\n",
    "\n"
   ]
  },
  {
   "cell_type": "code",
   "execution_count": 3,
   "metadata": {},
   "outputs": [
    {
     "ename": "TypeError",
     "evalue": "write() argument must be str, not list",
     "output_type": "error",
     "traceback": [
      "\u001b[1;31m---------------------------------------------------------------------------\u001b[0m",
      "\u001b[1;31mTypeError\u001b[0m                                 Traceback (most recent call last)",
      "Cell \u001b[1;32mIn[3], line 11\u001b[0m\n\u001b[0;32m      9\u001b[0m \u001b[39mwith\u001b[39;00m \u001b[39mopen\u001b[39m(output_file2, \u001b[39m\"\u001b[39m\u001b[39mw\u001b[39m\u001b[39m\"\u001b[39m, encoding\u001b[39m=\u001b[39m\u001b[39m\"\u001b[39m\u001b[39mutf-8\u001b[39m\u001b[39m\"\u001b[39m) \u001b[39mas\u001b[39;00m file:\n\u001b[0;32m     10\u001b[0m     \u001b[39mfor\u001b[39;00m translation \u001b[39min\u001b[39;00m translated_corpus:\n\u001b[1;32m---> 11\u001b[0m         file\u001b[39m.\u001b[39;49mwrite(translation)\n\u001b[0;32m     12\u001b[0m         file\u001b[39m.\u001b[39mwrite(\u001b[39m\"\u001b[39m\u001b[39m\\n\u001b[39;00m\u001b[39m\"\u001b[39m)\n",
      "\u001b[1;31mTypeError\u001b[0m: write() argument must be str, not list"
     ]
    }
   ],
   "source": [
    "# Save the parallel corpus to a file\n",
    "output_file1 = \"english_augmented_corpus.txt\"\n",
    "with open(output_file1, \"w\", encoding=\"utf-8\") as file:\n",
    "    for source in source_corpus:\n",
    "        file.write(source)\n",
    "        file.write(\"\\n\")\n",
    "\n",
    "output_file2 = \"telugu_augmented_corpus.txt\"\n",
    "with open(output_file2, \"w\", encoding=\"utf-8\") as file:\n",
    "    for translation in translated_corpus:\n",
    "        file.write(translation[0])\n",
    "        file.write(\"\\n\")"
   ]
  },
  {
   "cell_type": "code",
   "execution_count": null,
   "metadata": {},
   "outputs": [],
   "source": []
  }
 ],
 "metadata": {
  "kernelspec": {
   "display_name": "Python 3",
   "language": "python",
   "name": "python3"
  },
  "language_info": {
   "codemirror_mode": {
    "name": "ipython",
    "version": 3
   },
   "file_extension": ".py",
   "mimetype": "text/x-python",
   "name": "python",
   "nbconvert_exporter": "python",
   "pygments_lexer": "ipython3",
   "version": "3.10.11"
  },
  "orig_nbformat": 4
 },
 "nbformat": 4,
 "nbformat_minor": 2
}
